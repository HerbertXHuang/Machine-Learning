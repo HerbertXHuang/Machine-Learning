{
 "cells": [
  {
   "cell_type": "markdown",
   "metadata": {},
   "source": [
    "<h3>Consumer Lending: Default Detection</h3>\n",
    "1. Given a training data set with 10,000 samples, 600 variables, construct a classification model that outputs the default probability of a customer.\n",
    "2. Used the model to predict the default probability of another 10,000 potential customers.\n",
    "3. The motivation for this project is that, by knowing the default probability of a certain customer, we would be able to decide how much we are willing to spend on th"
   ]
  },
  {
   "cell_type": "code",
   "execution_count": 1,
   "metadata": {
    "collapsed": true
   },
   "outputs": [],
   "source": [
    "import pandas as pd\n",
    "import numpy as np\n",
    "import matplotlib.pyplot as plt\n",
    "%matplotlib inline\n",
    "\n",
    "import warnings\n",
    "warnings.filterwarnings(\"ignore\")"
   ]
  },
  {
   "cell_type": "code",
   "execution_count": 2,
   "metadata": {
    "collapsed": false
   },
   "outputs": [],
   "source": [
    "data = pd.read_csv(\"train_data.csv\")\n",
    "\n",
    "test_data = pd.read_csv(\"test_data.csv\")"
   ]
  },
  {
   "cell_type": "code",
   "execution_count": 3,
   "metadata": {
    "collapsed": false
   },
   "outputs": [],
   "source": [
    "#There are seven rows lack of dependent variables, drop them!\n",
    "data = data.drop(data['FPD'].isnull()[data['FPD'].isnull()].index).copy()\n",
    "\n",
    "#Show all the columns of the data frame\n",
    "pd.set_option('display.max_columns',None)\n",
    "\n",
    "#fill the 'FPD' of test data as 'N'\n",
    "test_data['FPD'] = 'N'"
   ]
  },
  {
   "cell_type": "code",
   "execution_count": 4,
   "metadata": {
    "collapsed": true
   },
   "outputs": [],
   "source": [
    "#concatenate the training and testing data\n",
    "whole_data = pd.concat([data, test_data], axis=0)\n",
    "whole_data = whole_data.reset_index(drop=True)"
   ]
  },
  {
   "cell_type": "markdown",
   "metadata": {},
   "source": [
    "<h3> Data Preprocessing </h3>\n",
    "1. remove the dates columns;\n",
    "2. remove those who have more than 50% missing;\n",
    "3. impute the data: mean for numerical, most frequent for categorical\n",
    "4. scale the data"
   ]
  },
  {
   "cell_type": "code",
   "execution_count": 5,
   "metadata": {
    "collapsed": true
   },
   "outputs": [],
   "source": [
    "from sklearn import preprocessing\n",
    "from sklearn import decomposition\n",
    "from sklearn.base import TransformerMixin"
   ]
  },
  {
   "cell_type": "code",
   "execution_count": 6,
   "metadata": {
    "collapsed": false
   },
   "outputs": [],
   "source": [
    "#divide data into three groups-- date, categorical and numerical\n",
    "num_cols = whole_data.describe().columns\n",
    "date_cols = ['d02.LastPaymentDate', 'd02.LastInquiryDate', 'd02.LastReturnDate',\\\n",
    "            'd02.LastChargeOffDate', 'd02.ThirdLastPaymentDate','d02.SecondLastPaymentDate',\\\n",
    "            'd02.LastTradelineDate', 'ApplicationDate']\n",
    "cat_cols = whole_data.drop(whole_data.describe().columns, axis=1).describe().columns.drop(['MRID','FPD'])\n",
    "cat_cols = cat_cols.drop(date_cols)"
   ]
  },
  {
   "cell_type": "code",
   "execution_count": 7,
   "metadata": {
    "collapsed": true
   },
   "outputs": [],
   "source": [
    "#drop the columns that have more than 50% missing data\n",
    "num_data = whole_data[num_cols].copy()\n",
    "new_num_cols = num_cols.drop(pd.DataFrame(num_data.isnull().sum(axis=0))\\\n",
    "              [num_data.isnull().sum(axis=0)>len(whole_data)/2].index)\n",
    "\n",
    "new_num_data = whole_data[new_num_cols].copy()"
   ]
  },
  {
   "cell_type": "code",
   "execution_count": 8,
   "metadata": {
    "collapsed": true
   },
   "outputs": [],
   "source": [
    "imp = preprocessing.Imputer(missing_values = 'NaN', strategy='mean', axis=0)\n",
    "imp.fit(new_num_data)\n",
    "\n",
    "imp_num_df = pd.DataFrame(imp.transform(new_num_data))"
   ]
  },
  {
   "cell_type": "code",
   "execution_count": null,
   "metadata": {
    "collapsed": true
   },
   "outputs": [],
   "source": []
  },
  {
   "cell_type": "code",
   "execution_count": 9,
   "metadata": {
    "collapsed": true
   },
   "outputs": [],
   "source": [
    "cat_data = whole_data[cat_cols].copy()\n",
    "\n",
    "#drop the columns that have more than 50% missing data\n",
    "new_cat_cols = cat_cols.drop(cat_data.isnull().sum()\\\n",
    "            [cat_data.isnull().sum()>0.5*len(cat_data)].index)\n",
    "new_cat_data = whole_data[new_cat_cols].copy()"
   ]
  },
  {
   "cell_type": "code",
   "execution_count": 10,
   "metadata": {
    "collapsed": true
   },
   "outputs": [],
   "source": [
    "class DataFrameImputer(TransformerMixin):\n",
    "    def __init__(self):\n",
    "        \"\"\"\n",
    "        Impute missing values.\n",
    "        Columns of dtype object are imputed with the most frequent value \n",
    "        in column.\n",
    "        Columns of other types are imputed with mean of column.\n",
    "        \"\"\"\n",
    "    def fit(self, X, y=None):\n",
    "        self.fill = pd.Series([X[c].value_counts().index[0]\n",
    "            if X[c].dtype == np.dtype('O') else X[c].mean() for c in X],\n",
    "            index=X.columns)\n",
    "        return self\n",
    "    def transform(self, X, y=None):\n",
    "        return X.fillna(self.fill)"
   ]
  },
  {
   "cell_type": "code",
   "execution_count": 11,
   "metadata": {
    "collapsed": true
   },
   "outputs": [],
   "source": [
    "#impute, and then turn them to dummies\n",
    "imp_cat_df = DataFrameImputer().fit_transform(new_cat_data)\n",
    "\n",
    "cat_df_dummies = pd.get_dummies(imp_cat_df)"
   ]
  },
  {
   "cell_type": "code",
   "execution_count": 12,
   "metadata": {
    "collapsed": true
   },
   "outputs": [],
   "source": [
    "imp_df = pd.concat([imp_num_df, cat_df_dummies],axis=1)"
   ]
  },
  {
   "cell_type": "code",
   "execution_count": 13,
   "metadata": {
    "collapsed": false
   },
   "outputs": [],
   "source": [
    "#Scale the data\n",
    "scaled_df = pd.DataFrame(preprocessing.scale(imp_df))"
   ]
  },
  {
   "cell_type": "code",
   "execution_count": null,
   "metadata": {
    "collapsed": true
   },
   "outputs": [],
   "source": []
  },
  {
   "cell_type": "markdown",
   "metadata": {},
   "source": [
    "<h3>Data Sets Set-up</h3>\n",
    "1. PCA to get the top 100+ variables\n",
    "2. Use logistic to select the top 20~30 variables\n",
    "3. Construct X and y data sets"
   ]
  },
  {
   "cell_type": "code",
   "execution_count": 14,
   "metadata": {
    "collapsed": false
   },
   "outputs": [
    {
     "data": {
      "text/plain": [
       "PCA(copy=True, iterated_power='auto', n_components=None, random_state=None,\n",
       "  svd_solver='auto', tol=0.0, whiten=False)"
      ]
     },
     "execution_count": 14,
     "metadata": {},
     "output_type": "execute_result"
    }
   ],
   "source": [
    "pca = decomposition.PCA()\n",
    "pca.fit(scaled_df)"
   ]
  },
  {
   "cell_type": "code",
   "execution_count": 15,
   "metadata": {
    "collapsed": false
   },
   "outputs": [
    {
     "data": {
      "text/plain": [
       "38"
      ]
     },
     "execution_count": 15,
     "metadata": {},
     "output_type": "execute_result"
    }
   ],
   "source": [
    "# The top X demensions explain Y% of the variance\n",
    "pca.n_components = sum(pca.explained_variance_ratio_.cumsum()<0.50)\n",
    "pca.n_components"
   ]
  },
  {
   "cell_type": "code",
   "execution_count": 16,
   "metadata": {
    "collapsed": true
   },
   "outputs": [],
   "source": [
    "df_reduced = pd.DataFrame(pca.fit_transform(scaled_df))"
   ]
  },
  {
   "cell_type": "code",
   "execution_count": 17,
   "metadata": {
    "collapsed": true
   },
   "outputs": [],
   "source": [
    "df_reduced.columns = df_reduced.columns.map(lambda x: 'col'+str(x))"
   ]
  },
  {
   "cell_type": "code",
   "execution_count": 18,
   "metadata": {
    "collapsed": false
   },
   "outputs": [
    {
     "data": {
      "text/plain": [
       "(19053, 38)"
      ]
     },
     "execution_count": 18,
     "metadata": {},
     "output_type": "execute_result"
    }
   ],
   "source": [
    "df_reduced.shape"
   ]
  },
  {
   "cell_type": "code",
   "execution_count": 19,
   "metadata": {
    "collapsed": true
   },
   "outputs": [],
   "source": [
    "X = df_reduced[0:9553].copy()\n",
    "y = pd.DataFrame(whole_data['FPD'])[0:9553].reset_index(drop = True).copy()\n",
    "y = y.apply(pd.to_numeric, errors = 'ignore')"
   ]
  },
  {
   "cell_type": "code",
   "execution_count": 20,
   "metadata": {
    "collapsed": true
   },
   "outputs": [],
   "source": [
    "X_TEST = df_reduced[9553:].copy()"
   ]
  },
  {
   "cell_type": "code",
   "execution_count": null,
   "metadata": {
    "collapsed": true
   },
   "outputs": [],
   "source": []
  },
  {
   "cell_type": "code",
   "execution_count": 21,
   "metadata": {
    "collapsed": false
   },
   "outputs": [],
   "source": [
    "train_set=np.random.rand(len(y))<0.8"
   ]
  },
  {
   "cell_type": "code",
   "execution_count": 22,
   "metadata": {
    "collapsed": true
   },
   "outputs": [],
   "source": [
    "X_train = X[train_set]\n",
    "y_train = y[train_set]\n",
    "X_valid = X[~train_set]\n",
    "y_valid = y[~train_set]"
   ]
  },
  {
   "cell_type": "markdown",
   "metadata": {},
   "source": [
    "<h3>Functions Definition"
   ]
  },
  {
   "cell_type": "code",
   "execution_count": 23,
   "metadata": {
    "collapsed": true
   },
   "outputs": [],
   "source": [
    "def model_performance(X_, y_, model, threshold, result_type):        \n",
    "    pred_ = list(map(lambda x: x[1], model.predict_proba(X_)))                \n",
    "    pred_list = list(map(lambda x: 1.0 if x>=threshold else 0.0, pred_))\n",
    "    df_ = pd.DataFrame(0,index=['True','False'],columns=['Pos','Neg'])\n",
    "    TP,FP,TN,FN=0,0,0,0\n",
    "    \n",
    "    for pred,real in zip(pred_list, list(y_['FPD'])):\n",
    "        if (pred,real)==(1,1):\n",
    "            TP+=1\n",
    "        if (pred,real)==(1,0):\n",
    "            FN+=1\n",
    "        if (pred,real)==(0,0):\n",
    "            TN+=1\n",
    "        if (pred,real)==(0,1):\n",
    "            FP+=1\n",
    "\n",
    "    df_.loc['True','Pos']=TP\n",
    "    df_.loc['False','Pos']=FP\n",
    "    df_.loc['True','Neg']=TN\n",
    "    df_.loc['False','Neg']=FN\n",
    "    \n",
    "    if result_type == 'table':\n",
    "        print(df_)\n",
    "        print('accuracy:', round((TP+TN)/(TP+TN+FP+FN), 4))\n",
    "    else:\n",
    "        return TP,FP,TN,FN"
   ]
  },
  {
   "cell_type": "code",
   "execution_count": 24,
   "metadata": {
    "collapsed": true
   },
   "outputs": [],
   "source": [
    "from sklearn.metrics import roc_curve\n",
    "from sklearn.metrics import auc\n",
    "def roc_plot(X_, y_, model):\n",
    "    y_true = np.array(y_['FPD'])\n",
    "    y_score = list(map(lambda x: x[1], model.predict_proba(X_)))        \n",
    "    \n",
    "    fpr, tpr, thresholds = roc_curve(y_true, y_score)    \n",
    "    roc_auc = auc(fpr, tpr)\n",
    "    # Plot ROC curve\n",
    "    plt.plot(fpr, tpr, label='ROC curve (area = %0.3f)' % roc_auc)\n",
    "    plt.plot([0, 1], [0, 1], 'k--')  # random predictions curve\n",
    "    plt.xlim([0.0, 1.0])\n",
    "    plt.ylim([0.0, 1.0])\n",
    "    plt.xlabel('False Positive Rate or (1 - Specifity)')\n",
    "    plt.ylabel('True Positive Rate or (Sensitivity)')\n",
    "    plt.title('Receiver Operating Characteristic')\n",
    "    plt.legend(loc=\"lower right\")"
   ]
  },
  {
   "cell_type": "code",
   "execution_count": 25,
   "metadata": {
    "collapsed": true
   },
   "outputs": [],
   "source": [
    "from sklearn.model_selection import KFold\n",
    "def predict_distribution(model):\n",
    "    kf = KFold(n_splits=10)\n",
    "    pos_dic = dict()\n",
    "    neg_dic = dict()\n",
    "    for i in range(10):\n",
    "        pos_dic[i]=0\n",
    "        neg_dic[i]=0\n",
    "    \n",
    "    for train_index, test_index in kf.split(X):\n",
    "        train_X, test_X = X.ix[train_index], X.ix[test_index]\n",
    "        train_y, test_y = y.ix[train_index], y.ix[test_index]        \n",
    "        model.fit(train_X, train_y)\n",
    "        y_true = test_y['FPD']\n",
    "        y_score = list(map(lambda x: x[1], model.predict_proba(test_X)))\n",
    "        \n",
    "        for i in range(10):\n",
    "            left = round(0.1*i, 1)\n",
    "            right = round(0.1*(i+1), 1)\n",
    "            index = list(map(lambda x: x<right and x>=left, y_score))\n",
    "            n_pos = y_true[index].sum()\n",
    "            n_neg = len(y_true[index]) - y_true[index].sum()\n",
    "            pos_dic[i] += int(n_pos)\n",
    "            neg_dic[i] += int(n_neg)\n",
    "    \n",
    "    df = pd.DataFrame(columns=['pos','neg','ratio'])    \n",
    "    for i in range(10):\n",
    "        left = round(0.1*i, 1)\n",
    "        right = round(0.1*(i+1), 1)    \n",
    "        df.loc[str(left) + ', ' + str(right), 'pos'] = pos_dic[i]\n",
    "        df.loc[str(left) + ', ' + str(right), 'neg'] = neg_dic[i]\n",
    "        try: rate = round(float(pos_dic[i]/(pos_dic[i]+neg_dic[i])),2)\n",
    "        except: rate = 'N'\n",
    "        df.loc[str(left)+', '+str(right), 'ratio'] = rate\n",
    "    return pd.DataFrame(df)   "
   ]
  },
  {
   "cell_type": "code",
   "execution_count": null,
   "metadata": {
    "collapsed": true
   },
   "outputs": [],
   "source": []
  },
  {
   "cell_type": "code",
   "execution_count": null,
   "metadata": {
    "collapsed": true
   },
   "outputs": [],
   "source": []
  },
  {
   "cell_type": "code",
   "execution_count": null,
   "metadata": {
    "collapsed": true
   },
   "outputs": [],
   "source": []
  },
  {
   "cell_type": "markdown",
   "metadata": {},
   "source": [
    "<h3> Models"
   ]
  },
  {
   "cell_type": "markdown",
   "metadata": {},
   "source": [
    "<h5> Logistic Regression"
   ]
  },
  {
   "cell_type": "code",
   "execution_count": 26,
   "metadata": {
    "collapsed": true
   },
   "outputs": [],
   "source": [
    "from sklearn.linear_model import LogisticRegression"
   ]
  },
  {
   "cell_type": "code",
   "execution_count": 27,
   "metadata": {
    "collapsed": false
   },
   "outputs": [
    {
     "data": {
      "text/plain": [
       "LogisticRegression(C=1.0, class_weight={1: 5}, dual=False, fit_intercept=True,\n",
       "          intercept_scaling=1, max_iter=100, multi_class='ovr', n_jobs=1,\n",
       "          penalty='l2', random_state=None, solver='liblinear', tol=0.0001,\n",
       "          verbose=0, warm_start=False)"
      ]
     },
     "execution_count": 27,
     "metadata": {},
     "output_type": "execute_result"
    }
   ],
   "source": [
    "log_mod = LogisticRegression(class_weight = {1: 5})\n",
    "log_mod.fit(X_train,y_train)"
   ]
  },
  {
   "cell_type": "code",
   "execution_count": 28,
   "metadata": {
    "collapsed": false
   },
   "outputs": [
    {
     "data": {
      "image/png": "[encoded data removed]",
      "text/plain": [
       "<matplotlib.figure.Figure at 0x10e96f390>"
      ]
     },
     "metadata": {},
     "output_type": "display_data"
    }
   ],
   "source": [
    "roc_plot(X_train, y_train, log_mod)"
   ]
  },
  {
   "cell_type": "markdown",
   "metadata": {},
   "source": [
    "<h5>The following table shows the performance of the model, based on a 10-fold cross valiadation:</h5>\n",
    "<br>\n",
    "For example, the first row of the logistic regression table shows that there are totally 70 customers being assigned a default probability ranges from 0-10%, while the true distribution is 3 default and 67 non-default. Therefore, the true default rate in this group is 3/(3+67)=4%, which is consistent with the model."
   ]
  },
  {
   "cell_type": "code",
   "execution_count": 29,
   "metadata": {
    "collapsed": false
   },
   "outputs": [
    {
     "data": {
      "text/html": [
       "<div>\n",
       "<table border=\"1\" class=\"dataframe\">\n",
       "  <thead>\n",
       "    <tr style=\"text-align: right;\">\n",
       "      <th></th>\n",
       "      <th>pos</th>\n",
       "      <th>neg</th>\n",
       "      <th>ratio</th>\n",
       "    </tr>\n",
       "  </thead>\n",
       "  <tbody>\n",
       "    <tr>\n",
       "      <th>0.0, 0.1</th>\n",
       "      <td>3</td>\n",
       "      <td>67</td>\n",
       "      <td>0.04</td>\n",
       "    </tr>\n",
       "    <tr>\n",
       "      <th>0.1, 0.2</th>\n",
       "      <td>17</td>\n",
       "      <td>209</td>\n",
       "      <td>0.08</td>\n",
       "    </tr>\n",
       "    <tr>\n",
       "      <th>0.2, 0.3</th>\n",
       "      <td>45</td>\n",
       "      <td>547</td>\n",
       "      <td>0.08</td>\n",
       "    </tr>\n",
       "    <tr>\n",
       "      <th>0.3, 0.4</th>\n",
       "      <td>152</td>\n",
       "      <td>1501</td>\n",
       "      <td>0.09</td>\n",
       "    </tr>\n",
       "    <tr>\n",
       "      <th>0.4, 0.5</th>\n",
       "      <td>499</td>\n",
       "      <td>2960</td>\n",
       "      <td>0.14</td>\n",
       "    </tr>\n",
       "    <tr>\n",
       "      <th>0.5, 0.6</th>\n",
       "      <td>472</td>\n",
       "      <td>1883</td>\n",
       "      <td>0.2</td>\n",
       "    </tr>\n",
       "    <tr>\n",
       "      <th>0.6, 0.7</th>\n",
       "      <td>219</td>\n",
       "      <td>647</td>\n",
       "      <td>0.25</td>\n",
       "    </tr>\n",
       "    <tr>\n",
       "      <th>0.7, 0.8</th>\n",
       "      <td>83</td>\n",
       "      <td>193</td>\n",
       "      <td>0.3</td>\n",
       "    </tr>\n",
       "    <tr>\n",
       "      <th>0.8, 0.9</th>\n",
       "      <td>22</td>\n",
       "      <td>18</td>\n",
       "      <td>0.55</td>\n",
       "    </tr>\n",
       "    <tr>\n",
       "      <th>0.9, 1.0</th>\n",
       "      <td>9</td>\n",
       "      <td>7</td>\n",
       "      <td>0.56</td>\n",
       "    </tr>\n",
       "  </tbody>\n",
       "</table>\n",
       "</div>"
      ],
      "text/plain": [
       "          pos   neg ratio\n",
       "0.0, 0.1    3    67  0.04\n",
       "0.1, 0.2   17   209  0.08\n",
       "0.2, 0.3   45   547  0.08\n",
       "0.3, 0.4  152  1501  0.09\n",
       "0.4, 0.5  499  2960  0.14\n",
       "0.5, 0.6  472  1883   0.2\n",
       "0.6, 0.7  219   647  0.25\n",
       "0.7, 0.8   83   193   0.3\n",
       "0.8, 0.9   22    18  0.55\n",
       "0.9, 1.0    9     7  0.56"
      ]
     },
     "execution_count": 29,
     "metadata": {},
     "output_type": "execute_result"
    }
   ],
   "source": [
    "predict_distribution(log_mod)"
   ]
  },
  {
   "cell_type": "code",
   "execution_count": null,
   "metadata": {
    "collapsed": true
   },
   "outputs": [],
   "source": []
  },
  {
   "cell_type": "markdown",
   "metadata": {},
   "source": [
    "<h5> Neural Network"
   ]
  },
  {
   "cell_type": "code",
   "execution_count": 30,
   "metadata": {
    "collapsed": true
   },
   "outputs": [],
   "source": [
    "from sklearn.neural_network import MLPClassifier"
   ]
  },
  {
   "cell_type": "code",
   "execution_count": 31,
   "metadata": {
    "collapsed": false
   },
   "outputs": [
    {
     "data": {
      "text/plain": [
       "MLPClassifier(activation='relu', alpha=0.0001, batch_size='auto', beta_1=0.9,\n",
       "       beta_2=0.999, early_stopping=False, epsilon=1e-08,\n",
       "       hidden_layer_sizes=(6, 4), learning_rate='constant',\n",
       "       learning_rate_init=0.001, max_iter=200, momentum=0.9,\n",
       "       nesterovs_momentum=True, power_t=0.5, random_state=None,\n",
       "       shuffle=True, solver='adam', tol=0.0001, validation_fraction=0.1,\n",
       "       verbose=False, warm_start=False)"
      ]
     },
     "execution_count": 31,
     "metadata": {},
     "output_type": "execute_result"
    }
   ],
   "source": [
    "nn_mod = MLPClassifier(hidden_layer_sizes=(6,4))\n",
    "nn_mod.fit(X_train,y_train)"
   ]
  },
  {
   "cell_type": "code",
   "execution_count": 32,
   "metadata": {
    "collapsed": false
   },
   "outputs": [
    {
     "data": {
      "image/png": "[encoded data removed]",
      "text/plain": [
       "<matplotlib.figure.Figure at 0x10ea43128>"
      ]
     },
     "metadata": {},
     "output_type": "display_data"
    }
   ],
   "source": [
    "roc_plot(X_train, y_train, nn_mod)"
   ]
  },
  {
   "cell_type": "code",
   "execution_count": 33,
   "metadata": {
    "collapsed": false
   },
   "outputs": [
    {
     "data": {
      "text/html": [
       "<div>\n",
       "<table border=\"1\" class=\"dataframe\">\n",
       "  <thead>\n",
       "    <tr style=\"text-align: right;\">\n",
       "      <th></th>\n",
       "      <th>pos</th>\n",
       "      <th>neg</th>\n",
       "      <th>ratio</th>\n",
       "    </tr>\n",
       "  </thead>\n",
       "  <tbody>\n",
       "    <tr>\n",
       "      <th>0.0, 0.1</th>\n",
       "      <td>239</td>\n",
       "      <td>2140</td>\n",
       "      <td>0.1</td>\n",
       "    </tr>\n",
       "    <tr>\n",
       "      <th>0.1, 0.2</th>\n",
       "      <td>681</td>\n",
       "      <td>3810</td>\n",
       "      <td>0.15</td>\n",
       "    </tr>\n",
       "    <tr>\n",
       "      <th>0.2, 0.3</th>\n",
       "      <td>445</td>\n",
       "      <td>1646</td>\n",
       "      <td>0.21</td>\n",
       "    </tr>\n",
       "    <tr>\n",
       "      <th>0.3, 0.4</th>\n",
       "      <td>98</td>\n",
       "      <td>310</td>\n",
       "      <td>0.24</td>\n",
       "    </tr>\n",
       "    <tr>\n",
       "      <th>0.4, 0.5</th>\n",
       "      <td>27</td>\n",
       "      <td>71</td>\n",
       "      <td>0.28</td>\n",
       "    </tr>\n",
       "    <tr>\n",
       "      <th>0.5, 0.6</th>\n",
       "      <td>7</td>\n",
       "      <td>34</td>\n",
       "      <td>0.17</td>\n",
       "    </tr>\n",
       "    <tr>\n",
       "      <th>0.6, 0.7</th>\n",
       "      <td>9</td>\n",
       "      <td>9</td>\n",
       "      <td>0.5</td>\n",
       "    </tr>\n",
       "    <tr>\n",
       "      <th>0.7, 0.8</th>\n",
       "      <td>6</td>\n",
       "      <td>6</td>\n",
       "      <td>0.5</td>\n",
       "    </tr>\n",
       "    <tr>\n",
       "      <th>0.8, 0.9</th>\n",
       "      <td>8</td>\n",
       "      <td>3</td>\n",
       "      <td>0.73</td>\n",
       "    </tr>\n",
       "    <tr>\n",
       "      <th>0.9, 1.0</th>\n",
       "      <td>1</td>\n",
       "      <td>3</td>\n",
       "      <td>0.25</td>\n",
       "    </tr>\n",
       "  </tbody>\n",
       "</table>\n",
       "</div>"
      ],
      "text/plain": [
       "          pos   neg ratio\n",
       "0.0, 0.1  239  2140   0.1\n",
       "0.1, 0.2  681  3810  0.15\n",
       "0.2, 0.3  445  1646  0.21\n",
       "0.3, 0.4   98   310  0.24\n",
       "0.4, 0.5   27    71  0.28\n",
       "0.5, 0.6    7    34  0.17\n",
       "0.6, 0.7    9     9   0.5\n",
       "0.7, 0.8    6     6   0.5\n",
       "0.8, 0.9    8     3  0.73\n",
       "0.9, 1.0    1     3  0.25"
      ]
     },
     "execution_count": 33,
     "metadata": {},
     "output_type": "execute_result"
    }
   ],
   "source": [
    "predict_distribution(nn_mod)"
   ]
  },
  {
   "cell_type": "code",
   "execution_count": null,
   "metadata": {
    "collapsed": true
   },
   "outputs": [],
   "source": []
  },
  {
   "cell_type": "markdown",
   "metadata": {},
   "source": [
    "<h5> SVM"
   ]
  },
  {
   "cell_type": "code",
   "execution_count": 34,
   "metadata": {
    "collapsed": true
   },
   "outputs": [],
   "source": [
    "from sklearn import svm"
   ]
  },
  {
   "cell_type": "code",
   "execution_count": 35,
   "metadata": {
    "collapsed": false
   },
   "outputs": [
    {
     "data": {
      "text/plain": [
       "SVC(C=1.0, cache_size=200, class_weight=None, coef0=0.0,\n",
       "  decision_function_shape=None, degree=3, gamma='auto', kernel='rbf',\n",
       "  max_iter=-1, probability=True, random_state=None, shrinking=True,\n",
       "  tol=0.001, verbose=False)"
      ]
     },
     "execution_count": 35,
     "metadata": {},
     "output_type": "execute_result"
    }
   ],
   "source": [
    "svm_mod = svm.SVC(probability = True)\n",
    "svm_mod.fit(X_train, y_train)"
   ]
  },
  {
   "cell_type": "code",
   "execution_count": 36,
   "metadata": {
    "collapsed": false
   },
   "outputs": [
    {
     "data": {
      "image/png": "[encoded data removed]",
      "text/plain": [
       "<matplotlib.figure.Figure at 0x10ea2fa20>"
      ]
     },
     "metadata": {},
     "output_type": "display_data"
    }
   ],
   "source": [
    "roc_plot(X_train, y_train, svm_mod)"
   ]
  },
  {
   "cell_type": "code",
   "execution_count": 37,
   "metadata": {
    "collapsed": false
   },
   "outputs": [
    {
     "data": {
      "text/html": [
       "<div>\n",
       "<table border=\"1\" class=\"dataframe\">\n",
       "  <thead>\n",
       "    <tr style=\"text-align: right;\">\n",
       "      <th></th>\n",
       "      <th>pos</th>\n",
       "      <th>neg</th>\n",
       "      <th>ratio</th>\n",
       "    </tr>\n",
       "  </thead>\n",
       "  <tbody>\n",
       "    <tr>\n",
       "      <th>0.0, 0.1</th>\n",
       "      <td>1</td>\n",
       "      <td>7</td>\n",
       "      <td>0.12</td>\n",
       "    </tr>\n",
       "    <tr>\n",
       "      <th>0.1, 0.2</th>\n",
       "      <td>1426</td>\n",
       "      <td>7772</td>\n",
       "      <td>0.16</td>\n",
       "    </tr>\n",
       "    <tr>\n",
       "      <th>0.2, 0.3</th>\n",
       "      <td>73</td>\n",
       "      <td>238</td>\n",
       "      <td>0.23</td>\n",
       "    </tr>\n",
       "    <tr>\n",
       "      <th>0.3, 0.4</th>\n",
       "      <td>9</td>\n",
       "      <td>10</td>\n",
       "      <td>0.47</td>\n",
       "    </tr>\n",
       "    <tr>\n",
       "      <th>0.4, 0.5</th>\n",
       "      <td>1</td>\n",
       "      <td>2</td>\n",
       "      <td>0.33</td>\n",
       "    </tr>\n",
       "    <tr>\n",
       "      <th>0.5, 0.6</th>\n",
       "      <td>5</td>\n",
       "      <td>1</td>\n",
       "      <td>0.83</td>\n",
       "    </tr>\n",
       "    <tr>\n",
       "      <th>0.6, 0.7</th>\n",
       "      <td>4</td>\n",
       "      <td>1</td>\n",
       "      <td>0.8</td>\n",
       "    </tr>\n",
       "    <tr>\n",
       "      <th>0.7, 0.8</th>\n",
       "      <td>2</td>\n",
       "      <td>1</td>\n",
       "      <td>0.67</td>\n",
       "    </tr>\n",
       "    <tr>\n",
       "      <th>0.8, 0.9</th>\n",
       "      <td>0</td>\n",
       "      <td>0</td>\n",
       "      <td>N</td>\n",
       "    </tr>\n",
       "    <tr>\n",
       "      <th>0.9, 1.0</th>\n",
       "      <td>0</td>\n",
       "      <td>0</td>\n",
       "      <td>N</td>\n",
       "    </tr>\n",
       "  </tbody>\n",
       "</table>\n",
       "</div>"
      ],
      "text/plain": [
       "           pos   neg ratio\n",
       "0.0, 0.1     1     7  0.12\n",
       "0.1, 0.2  1426  7772  0.16\n",
       "0.2, 0.3    73   238  0.23\n",
       "0.3, 0.4     9    10  0.47\n",
       "0.4, 0.5     1     2  0.33\n",
       "0.5, 0.6     5     1  0.83\n",
       "0.6, 0.7     4     1   0.8\n",
       "0.7, 0.8     2     1  0.67\n",
       "0.8, 0.9     0     0     N\n",
       "0.9, 1.0     0     0     N"
      ]
     },
     "execution_count": 37,
     "metadata": {},
     "output_type": "execute_result"
    }
   ],
   "source": [
    "predict_distribution(svm_mod)"
   ]
  },
  {
   "cell_type": "code",
   "execution_count": null,
   "metadata": {
    "collapsed": true
   },
   "outputs": [],
   "source": []
  },
  {
   "cell_type": "markdown",
   "metadata": {},
   "source": [
    "<h5> Ensemble: Logistic & Neural Network</h5>\n",
    "<br>\n",
    "I tried to ensemble these two models based on an optimal testing AUC and it turned out\n",
    "that the best weight for logistic is 90%, and the weight for neural network is 10%"
   ]
  },
  {
   "cell_type": "code",
   "execution_count": 38,
   "metadata": {
    "collapsed": true
   },
   "outputs": [],
   "source": [
    "from sklearn.model_selection import KFold\n",
    "def ensemble(X, y, log_esb, nn_esb):\n",
    "    kf = KFold(n_splits=10)\n",
    "    whole_list = list()\n",
    "    \n",
    "    for train_index, test_index in kf.split(X):\n",
    "        train_X, test_X = X.ix[train_index], X.ix[test_index]\n",
    "        train_y, test_y = y.ix[train_index], y.ix[test_index]\n",
    "        log_esb.fit(train_X, train_y)\n",
    "        nn_esb.fit(train_X, train_y)\n",
    "        \n",
    "        log_score = list(map(lambda x: x[1], log_esb.predict_proba(test_X)))\n",
    "        nn_score = list(map(lambda x: x[1], nn_esb.predict_proba(test_X)))\n",
    "        \n",
    "        auc_list = list()\n",
    "        for alpha in np.arange(0, 1.01, 0.01):\n",
    "            score_esb = [alpha*a +(1-alpha)*b for a,b in zip(log_score,nn_score)]\n",
    "            fpr, tpr, thresholds = roc_curve(test_y['FPD'], score_esb)    \n",
    "            roc_auc = auc(fpr, tpr)\n",
    "            auc_list.append(roc_auc)\n",
    "                       \n",
    "        whole_list.append(auc_list)\n",
    "        result = [sum(e)/len(e) for e in zip(*whole_list)]\n",
    "    return result"
   ]
  },
  {
   "cell_type": "code",
   "execution_count": 39,
   "metadata": {
    "collapsed": true
   },
   "outputs": [],
   "source": [
    "#ensemble: \n",
    "log_mod = LogisticRegression(class_weight = {1:5.0})\n",
    "nn_mod = MLPClassifier(hidden_layer_sizes=(5,3))\n",
    "\n",
    "a = ensemble(X, y, log_mod, nn_mod)"
   ]
  },
  {
   "cell_type": "code",
   "execution_count": 40,
   "metadata": {
    "collapsed": false
   },
   "outputs": [
    {
     "data": {
      "text/plain": [
       "90"
      ]
     },
     "execution_count": 40,
     "metadata": {},
     "output_type": "execute_result"
    }
   ],
   "source": [
    "a.index(max(a))"
   ]
  },
  {
   "cell_type": "code",
   "execution_count": 41,
   "metadata": {
    "collapsed": false
   },
   "outputs": [],
   "source": [
    "alpha = a.index(max(a))*0.01"
   ]
  },
  {
   "cell_type": "code",
   "execution_count": 42,
   "metadata": {
    "collapsed": true
   },
   "outputs": [],
   "source": [
    "log_score = list(map(lambda x: x[1], log_mod.predict_proba(X_valid)))\n",
    "nn_score = list(map(lambda x: x[1], nn_mod.predict_proba(X_valid)))\n",
    "score_esb = [alpha*a +(1-alpha)*b for a,b in zip(log_score,nn_score)]"
   ]
  },
  {
   "cell_type": "code",
   "execution_count": null,
   "metadata": {
    "collapsed": true
   },
   "outputs": [],
   "source": []
  },
  {
   "cell_type": "code",
   "execution_count": null,
   "metadata": {
    "collapsed": true
   },
   "outputs": [],
   "source": []
  },
  {
   "cell_type": "markdown",
   "metadata": {},
   "source": [
    "<h3>Conclusion</h3>\n",
    "In this part, we use logistic regression to test the result"
   ]
  },
  {
   "cell_type": "code",
   "execution_count": 43,
   "metadata": {
    "collapsed": false
   },
   "outputs": [
    {
     "data": {
      "text/plain": [
       "LogisticRegression(C=1.0, class_weight={1: 5}, dual=False, fit_intercept=True,\n",
       "          intercept_scaling=1, max_iter=100, multi_class='ovr', n_jobs=1,\n",
       "          penalty='l2', random_state=None, solver='liblinear', tol=0.0001,\n",
       "          verbose=0, warm_start=False)"
      ]
     },
     "execution_count": 43,
     "metadata": {},
     "output_type": "execute_result"
    }
   ],
   "source": [
    "#We use logistic regression model:\n",
    "from sklearn.linear_model import LogisticRegression\n",
    "log_mod = LogisticRegression(class_weight = {1: 5})\n",
    "log_mod.fit(X, y)"
   ]
  },
  {
   "cell_type": "code",
   "execution_count": 44,
   "metadata": {
    "collapsed": true
   },
   "outputs": [],
   "source": [
    "#The dafault probability of the customers are\n",
    "log_TEST = list(map(lambda x: x[1], log_mod.predict_proba(X_TEST)))"
   ]
  },
  {
   "cell_type": "code",
   "execution_count": 45,
   "metadata": {
    "collapsed": true
   },
   "outputs": [],
   "source": [
    "y_TEST_data = pd.read_csv('y_TEST.csv')\n",
    "y_TEST_data = y_TEST_data.set_index('MRID')\n",
    "mrid = test_data['MRID']\n",
    "y_TEST = y_TEST_data.ix[mrid]"
   ]
  },
  {
   "cell_type": "markdown",
   "metadata": {
    "collapsed": true
   },
   "source": [
    "Based on the prediction of the test data set, the following table shows the prediction result"
   ]
  },
  {
   "cell_type": "code",
   "execution_count": 47,
   "metadata": {
    "collapsed": false
   },
   "outputs": [
    {
     "data": {
      "text/html": [
       "<div>\n",
       "<table border=\"1\" class=\"dataframe\">\n",
       "  <thead>\n",
       "    <tr style=\"text-align: right;\">\n",
       "      <th></th>\n",
       "      <th>pos</th>\n",
       "      <th>neg</th>\n",
       "      <th>ratio</th>\n",
       "    </tr>\n",
       "  </thead>\n",
       "  <tbody>\n",
       "    <tr>\n",
       "      <th>0.0, 0.1</th>\n",
       "      <td>7</td>\n",
       "      <td>135</td>\n",
       "      <td>0.05</td>\n",
       "    </tr>\n",
       "    <tr>\n",
       "      <th>0.1, 0.2</th>\n",
       "      <td>28</td>\n",
       "      <td>498</td>\n",
       "      <td>0.05</td>\n",
       "    </tr>\n",
       "    <tr>\n",
       "      <th>0.2, 0.3</th>\n",
       "      <td>118</td>\n",
       "      <td>1466</td>\n",
       "      <td>0.07</td>\n",
       "    </tr>\n",
       "    <tr>\n",
       "      <th>0.3, 0.4</th>\n",
       "      <td>289</td>\n",
       "      <td>2416</td>\n",
       "      <td>0.11</td>\n",
       "    </tr>\n",
       "    <tr>\n",
       "      <th>0.4, 0.5</th>\n",
       "      <td>340</td>\n",
       "      <td>2239</td>\n",
       "      <td>0.13</td>\n",
       "    </tr>\n",
       "    <tr>\n",
       "      <th>0.5, 0.6</th>\n",
       "      <td>260</td>\n",
       "      <td>1119</td>\n",
       "      <td>0.19</td>\n",
       "    </tr>\n",
       "    <tr>\n",
       "      <th>0.6, 0.7</th>\n",
       "      <td>119</td>\n",
       "      <td>320</td>\n",
       "      <td>0.27</td>\n",
       "    </tr>\n",
       "    <tr>\n",
       "      <th>0.7, 0.8</th>\n",
       "      <td>37</td>\n",
       "      <td>80</td>\n",
       "      <td>0.32</td>\n",
       "    </tr>\n",
       "    <tr>\n",
       "      <th>0.8, 0.9</th>\n",
       "      <td>3</td>\n",
       "      <td>18</td>\n",
       "      <td>0.14</td>\n",
       "    </tr>\n",
       "    <tr>\n",
       "      <th>0.9, 1.0</th>\n",
       "      <td>4</td>\n",
       "      <td>4</td>\n",
       "      <td>0.5</td>\n",
       "    </tr>\n",
       "  </tbody>\n",
       "</table>\n",
       "</div>"
      ],
      "text/plain": [
       "          pos   neg ratio\n",
       "0.0, 0.1    7   135  0.05\n",
       "0.1, 0.2   28   498  0.05\n",
       "0.2, 0.3  118  1466  0.07\n",
       "0.3, 0.4  289  2416  0.11\n",
       "0.4, 0.5  340  2239  0.13\n",
       "0.5, 0.6  260  1119  0.19\n",
       "0.6, 0.7  119   320  0.27\n",
       "0.7, 0.8   37    80  0.32\n",
       "0.8, 0.9    3    18  0.14\n",
       "0.9, 1.0    4     4   0.5"
      ]
     },
     "execution_count": 47,
     "metadata": {},
     "output_type": "execute_result"
    }
   ],
   "source": [
    "pos_dic = dict()\n",
    "neg_dic = dict()\n",
    "for i in range(10):\n",
    "    pos_dic[i]=0\n",
    "    neg_dic[i]=0\n",
    "\n",
    "y_true = y_TEST['FPD']\n",
    "y_score = list(map(lambda x: x[1], log_mod.predict_proba(X_TEST)))\n",
    "\n",
    "for i in range(10):\n",
    "    left = round(0.1*i, 1)\n",
    "    right = round(0.1*(i+1), 1)\n",
    "    index = list(map(lambda x: x<right and x>=left, y_score))\n",
    "    n_pos = y_true[index].sum()\n",
    "    n_neg = len(y_true[index]) - y_true[index].sum()\n",
    "    pos_dic[i] += int(n_pos)\n",
    "    neg_dic[i] += int(n_neg)\n",
    "\n",
    "df = pd.DataFrame(columns=['pos','neg','ratio'])    \n",
    "for i in range(10):\n",
    "    left = round(0.1*i, 1)\n",
    "    right = round(0.1*(i+1), 1)    \n",
    "    df.loc[str(left) + ', ' + str(right), 'pos'] = pos_dic[i]\n",
    "    df.loc[str(left) + ', ' + str(right), 'neg'] = neg_dic[i]\n",
    "    try: rate = round(float(pos_dic[i]/(pos_dic[i]+neg_dic[i])),2)\n",
    "    except: rate = 'N'\n",
    "    df.loc[str(left)+', '+str(right), 'ratio'] = rate\n",
    "df"
   ]
  },
  {
   "cell_type": "code",
   "execution_count": null,
   "metadata": {
    "collapsed": true
   },
   "outputs": [],
   "source": []
  }
 ],
 "metadata": {
  "anaconda-cloud": {},
  "kernelspec": {
   "display_name": "Python [conda env:py35]",
   "language": "python",
   "name": "conda-env-py35-py"
  },
  "language_info": {
   "codemirror_mode": {
    "name": "ipython",
    "version": 3
   },
   "file_extension": ".py",
   "mimetype": "text/x-python",
   "name": "python",
   "nbconvert_exporter": "python",
   "pygments_lexer": "ipython3",
   "version": "3.5.2"
  }
 },
 "nbformat": 4,
 "nbformat_minor": 1
}
